{
  "nbformat": 4,
  "nbformat_minor": 0,
  "metadata": {
    "kernelspec": {
      "language": "python",
      "display_name": "Python 3",
      "name": "python3"
    },
    "language_info": {
      "pygments_lexer": "ipython3",
      "nbconvert_exporter": "python",
      "version": "3.6.4",
      "file_extension": ".py",
      "codemirror_mode": {
        "name": "ipython",
        "version": 3
      },
      "name": "python",
      "mimetype": "text/x-python"
    },
    "colab": {
      "name": "eda-in-diabetic-retinopathy.ipynb",
      "provenance": [],
      "collapsed_sections": [],
      "include_colab_link": true
    }
  },
  "cells": [
    {
      "cell_type": "markdown",
      "metadata": {
        "id": "view-in-github",
        "colab_type": "text"
      },
      "source": [
        "<a href=\"https://colab.research.google.com/github/pranjul6386/cnn/blob/master/eda_in_diabetic_retinopathy.ipynb\" target=\"_parent\"><img src=\"https://colab.research.google.com/assets/colab-badge.svg\" alt=\"Open In Colab\"/></a>"
      ]
    },
    {
      "cell_type": "code",
      "metadata": {
        "_uuid": "8f2839f25d086af736a60e9eeb907d3b93b6e0e5",
        "_cell_guid": "b1076dfc-b9ad-4769-8c92-a6c4dae69d19",
        "_kg_hide-input": true,
        "trusted": true,
        "id": "Q4pojQ8FGDEH"
      },
      "source": [
        "# This Python 3 environment comes with many helpful analytics libraries installed\n",
        "# It is defined by the kaggle/python docker image: https://github.com/kaggle/docker-python\n",
        "# For example, here's several helpful packages to load in \n",
        "\n",
        "import numpy as np # linear algebra\n",
        "import pandas as pd # data processing, CSV file I/O (e.g. pd.read_csv)\n",
        "\n",
        "# Input data files are available in the \"../input/\" directory.\n",
        "# For example, running this (by clicking run or pressing Shift+Enter) will list the files in the input directory\n",
        "\n",
        "import os\n",
        "print(os.listdir(\"content/data\"))\n",
        "\n",
        "# Any results you write to the current directory are saved as output."
      ],
      "execution_count": null,
      "outputs": []
    },
    {
      "cell_type": "code",
      "metadata": {
        "_cell_guid": "79c7e3d0-c299-4dcb-8224-4455121ee9b0",
        "_uuid": "d629ff2d2480ee46fbb7e2d37f6b5fab8052498a",
        "_kg_hide-input": true,
        "trusted": true,
        "id": "CPnZyljtGDEK"
      },
      "source": [
        "import os, sys\n",
        "import numpy as np\n",
        "import pandas as pd\n",
        "import matplotlib.pyplot as plt\n",
        "import skimage.io\n",
        "from skimage.transform import resize\n",
        "from imgaug import augmenters as iaa\n",
        "from tqdm import tqdm\n",
        "import PIL\n",
        "from PIL import Image, ImageOps\n",
        "import cv2\n",
        "from sklearn.utils import class_weight, shuffle\n",
        "from keras.losses import binary_crossentropy\n",
        "from keras.applications.resnet50 import preprocess_input\n",
        "import keras.backend as K\n",
        "import tensorflow as tf\n",
        "from sklearn.metrics import f1_score, fbeta_score\n",
        "from keras.utils import Sequence\n",
        "from keras.utils import to_categorical\n",
        "from sklearn.model_selection import train_test_split\n",
        "\n",
        "WORKERS = 2\n",
        "CHANNEL = 3\n",
        "\n",
        "import warnings\n",
        "warnings.filterwarnings(\"ignore\")\n",
        "IMG_SIZE = 512\n",
        "NUM_CLASSES = 5\n",
        "SEED = 77\n",
        "TRAIN_NUM = 1000 # use 1000 when you just want to explore new idea, use -1 for full train"
      ],
      "execution_count": null,
      "outputs": []
    },
    {
      "cell_type": "code",
      "metadata": {
        "trusted": true,
        "id": "D8sH0hc1GDEL"
      },
      "source": [
        "df_train = pd.read_csv('../input/aptos2019-blindness-detection/train.csv')\n",
        "df_test = pd.read_csv('../input/aptos2019-blindness-detection/test.csv')\n",
        "\n",
        "x = df_train['id_code']\n",
        "y = df_train['diagnosis']\n",
        "\n",
        "x, y = shuffle(x, y, random_state=SEED)\n"
      ],
      "execution_count": null,
      "outputs": []
    },
    {
      "cell_type": "code",
      "metadata": {
        "trusted": true,
        "id": "yEFrPLUlGDEM"
      },
      "source": [
        "train_x, valid_x, train_y, valid_y = train_test_split(x, y, test_size=0.15,\n",
        "                                                      stratify=y, random_state=SEED)\n",
        "print(train_x.shape, train_y.shape, valid_x.shape, valid_y.shape)\n",
        "train_y.hist()\n",
        "valid_y.hist()"
      ],
      "execution_count": null,
      "outputs": []
    },
    {
      "cell_type": "code",
      "metadata": {
        "_kg_hide-input": true,
        "trusted": true,
        "id": "2f31zfe4GDEN"
      },
      "source": [
        "%%time\n",
        "fig = plt.figure(figsize=(25, 16))\n",
        "# display 10 images from each class\n",
        "for class_id in sorted(train_y.unique()):\n",
        "    for i, (idx, row) in enumerate(df_train.loc[df_train['diagnosis'] == class_id].sample(5, random_state=SEED).iterrows()):\n",
        "        ax = fig.add_subplot(5, 5, class_id * 5 + i + 1, xticks=[], yticks=[])\n",
        "        path=f\"../input/aptos2019-blindness-detection/train_images/{row['id_code']}.png\"\n",
        "        image = cv2.imread(path)\n",
        "        image = cv2.cvtColor(image, cv2.COLOR_BGR2RGB)\n",
        "        image = cv2.resize(image, (IMG_SIZE, IMG_SIZE))\n",
        "\n",
        "        plt.imshow(image)\n",
        "        ax.set_title('Label: %d-%d-%s' % (class_id, idx, row['id_code']) )\n",
        "        \n"
      ],
      "execution_count": null,
      "outputs": []
    },
    {
      "cell_type": "code",
      "metadata": {
        "_kg_hide-input": true,
        "trusted": true,
        "id": "_rkHql7GGDEN"
      },
      "source": [
        "%%time\n",
        "fig = plt.figure(figsize=(25, 16))\n",
        "for class_id in sorted(train_y.unique()):\n",
        "    for i, (idx, row) in enumerate(df_train.loc[df_train['diagnosis'] == class_id].sample(5, random_state=SEED).iterrows()):\n",
        "        ax = fig.add_subplot(5, 5, class_id * 5 + i + 1, xticks=[], yticks=[])\n",
        "        path=f\"../input/aptos2019-blindness-detection/train_images/{row['id_code']}.png\"\n",
        "        image = cv2.imread(path)\n",
        "        image = cv2.cvtColor(image, cv2.COLOR_BGR2GRAY)\n",
        "#         image=cv2.addWeighted ( image, 0 , cv2.GaussianBlur( image , (0 ,0 ) , 10) ,-4 ,128)\n",
        "        image = cv2.resize(image, (IMG_SIZE, IMG_SIZE))\n",
        "\n",
        "        plt.imshow(image, cmap='gray')\n",
        "        ax.set_title('Label: %d-%d-%s' % (class_id, idx, row['id_code']) )"
      ],
      "execution_count": null,
      "outputs": []
    },
    {
      "cell_type": "code",
      "metadata": {
        "_kg_hide-input": true,
        "trusted": true,
        "id": "Zp2uBZaNGDEO"
      },
      "source": [
        "dpi = 80 #inch\n",
        "\n",
        "# path=f\"../input/aptos2019-blindness-detection/train_images/5c7ab966a3ee.png\" # notice upper part\n",
        "path=f\"../input/aptos2019-blindness-detection/train_images/cd54d022e37d.png\" # lower-right, this still looks not so severe, can be class3\n",
        "image = cv2.imread(path)\n",
        "image = cv2.cvtColor(image, cv2.COLOR_BGR2GRAY)\n",
        "height, width = image.shape\n",
        "print(height, width)\n",
        "\n",
        "SCALE=2\n",
        "figsize = (width / float(dpi))/SCALE, (height / float(dpi))/SCALE\n",
        "\n",
        "fig = plt.figure(figsize=figsize)\n",
        "plt.imshow(image, cmap='gray')"
      ],
      "execution_count": null,
      "outputs": []
    },
    {
      "cell_type": "code",
      "metadata": {
        "trusted": true,
        "id": "1SoIX-kAGDEP"
      },
      "source": [
        "def crop_image1(img,tol=7):\n",
        "    # img is image data\n",
        "    # tol  is tolerance\n",
        "        \n",
        "    mask = img>tol\n",
        "    return img[np.ix_(mask.any(1),mask.any(0))]\n",
        "\n",
        "def crop_image_from_gray(img,tol=7):\n",
        "    if img.ndim ==2:\n",
        "        mask = img>tol\n",
        "        return img[np.ix_(mask.any(1),mask.any(0))]\n",
        "    elif img.ndim==3:\n",
        "        gray_img = cv2.cvtColor(img, cv2.COLOR_RGB2GRAY)\n",
        "        mask = gray_img>tol\n",
        "        \n",
        "        check_shape = img[:,:,0][np.ix_(mask.any(1),mask.any(0))].shape[0]\n",
        "        if (check_shape == 0): # image is too dark so that we crop out everything,\n",
        "            return img # return original image\n",
        "        else:\n",
        "            img1=img[:,:,0][np.ix_(mask.any(1),mask.any(0))]\n",
        "            img2=img[:,:,1][np.ix_(mask.any(1),mask.any(0))]\n",
        "            img3=img[:,:,2][np.ix_(mask.any(1),mask.any(0))]\n",
        "    #         print(img1.shape,img2.shape,img3.shape)\n",
        "            img = np.stack([img1,img2,img3],axis=-1)\n",
        "    #         print(img.shape)\n",
        "        return img\n"
      ],
      "execution_count": null,
      "outputs": []
    },
    {
      "cell_type": "code",
      "metadata": {
        "_kg_hide-input": true,
        "trusted": true,
        "id": "FSpIqB-sGDEQ"
      },
      "source": [
        "%%time\n",
        "\n",
        "NUM_SAMP=7\n",
        "fig = plt.figure(figsize=(25, 16))\n",
        "for class_id in sorted(train_y.unique()):\n",
        "    for i, (idx, row) in enumerate(df_train.loc[df_train['diagnosis'] == class_id].sample(NUM_SAMP, random_state=SEED).iterrows()):\n",
        "        ax = fig.add_subplot(5, NUM_SAMP, class_id * NUM_SAMP + i + 1, xticks=[], yticks=[])\n",
        "        path=f\"../input/aptos2019-blindness-detection/train_images/{row['id_code']}.png\"\n",
        "        image = load_ben_color(path,sigmaX=30)\n",
        "\n",
        "        plt.imshow(image)\n",
        "        ax.set_title('%d-%d-%s' % (class_id, idx, row['id_code']) )"
      ],
      "execution_count": null,
      "outputs": []
    },
    {
      "cell_type": "code",
      "metadata": {
        "trusted": true,
        "id": "3I5MsSEvGDES"
      },
      "source": [
        "%%time\n",
        "## try circle crop\n",
        "NUM_SAMP=7\n",
        "fig = plt.figure(figsize=(25, 16))\n",
        "for class_id in sorted(train_y.unique()):\n",
        "    for i, (idx, row) in enumerate(df_train.loc[df_train['diagnosis'] == class_id].sample(NUM_SAMP, random_state=SEED).iterrows()):\n",
        "        ax = fig.add_subplot(5, NUM_SAMP, class_id * NUM_SAMP + i + 1, xticks=[], yticks=[])\n",
        "        path=f\"../input/aptos2019-blindness-detection/train_images/{row['id_code']}.png\"\n",
        "        image = circle_crop(path,sigmaX=30)\n",
        "\n",
        "        plt.imshow(image)\n",
        "        ax.set_title('%d-%d-%s' % (class_id, idx, row['id_code']) )"
      ],
      "execution_count": null,
      "outputs": []
    },
    {
      "cell_type": "code",
      "metadata": {
        "trusted": true,
        "id": "-mNSyI3IGDES"
      },
      "source": [
        "!ls ../input/diabetic-retinopathy-resized/"
      ],
      "execution_count": null,
      "outputs": []
    },
    {
      "cell_type": "code",
      "metadata": {
        "trusted": true,
        "id": "LGdBirYfGDES"
      },
      "source": [
        "!ls ../input/diabetic-retinopathy-resized/resized_train/resized_train | head"
      ],
      "execution_count": null,
      "outputs": []
    },
    {
      "cell_type": "code",
      "metadata": {
        "trusted": true,
        "id": "DgjTvIiHGDET"
      },
      "source": [
        "df_old = pd.read_csv('../input/diabetic-retinopathy-resized/trainLabels.csv')\n",
        "\n",
        "df_old.head()"
      ],
      "execution_count": null,
      "outputs": []
    },
    {
      "cell_type": "code",
      "metadata": {
        "_kg_hide-input": true,
        "trusted": true,
        "id": "retkO2GAGDEU"
      },
      "source": [
        "NUM_SAMP=10\n",
        "fig = plt.figure(figsize=(25, 16))\n",
        "for class_id in sorted(train_y.unique()):\n",
        "    for i, (idx, row) in enumerate(df_old.loc[df_old['level'] == class_id].sample(NUM_SAMP, random_state=SEED).iterrows()):\n",
        "        ax = fig.add_subplot(5, NUM_SAMP, class_id * NUM_SAMP + i + 1, xticks=[], yticks=[])\n",
        "        path=f\"../input/diabetic-retinopathy-resized/resized_train/resized_train/{row['image']}.jpeg\"\n",
        "        image = load_ben_color(path,sigmaX=30)\n",
        "\n",
        "        plt.imshow(image)\n",
        "        ax.set_title('%d-%d-%s' % (class_id, idx, row['image']) )"
      ],
      "execution_count": null,
      "outputs": []
    },
    {
      "cell_type": "markdown",
      "metadata": {
        "id": "Y0loPkWXGDEU"
      },
      "source": [
        "Below is the unpreprocess version, just for comparison"
      ]
    },
    {
      "cell_type": "code",
      "metadata": {
        "_kg_hide-input": true,
        "trusted": true,
        "id": "88SHHDUGGDEW"
      },
      "source": [
        "NUM_SAMP=10\n",
        "fig = plt.figure(figsize=(25, 16))\n",
        "for class_id in sorted(train_y.unique()):\n",
        "    for i, (idx, row) in enumerate(df_old.loc[df_old['level'] == class_id].sample(NUM_SAMP, random_state=SEED).iterrows()):\n",
        "        ax = fig.add_subplot(5, NUM_SAMP, class_id * NUM_SAMP + i + 1, xticks=[], yticks=[])\n",
        "        path=f\"../input/diabetic-retinopathy-resized/resized_train/resized_train/{row['image']}.jpeg\"\n",
        "        image = cv2.imread(path)\n",
        "        image = cv2.cvtColor(image, cv2.COLOR_BGR2RGB)\n",
        "\n",
        "#         image = crop_image_from_gray(image)\n",
        "        image = cv2.resize(image, (IMG_SIZE, IMG_SIZE))\n",
        "#         image=cv2.addWeighted ( image,4, cv2.GaussianBlur( image , (0,0) , IMG_SIZE/10) ,-4 ,128)\n",
        "\n",
        "        plt.imshow(image, cmap='gray')\n",
        "        ax.set_title('%d-%d-%s' % (class_id, idx, row['image']) )"
      ],
      "execution_count": null,
      "outputs": []
    },
    {
      "cell_type": "markdown",
      "metadata": {
        "id": "77TqTYMBGDEW"
      },
      "source": [
        "Ok preprocessing methods seem to works fine; however, the doctors to estimate the severity levels in the past competitions may have different criteria in mind than the doctors of Aravind, so it is possible to have some estimation inconsistency (at least to my eyes the previous data seems more noisy). The following level-4 [pic(4,1) in the plot we just made above] looks not so severe. (Or this is the example case of too many blood vessels ??, refer to Section 1.1)"
      ]
    },
    {
      "cell_type": "code",
      "metadata": {
        "_kg_hide-input": true,
        "trusted": true,
        "id": "n46tCW3wGDEW"
      },
      "source": [
        "dpi = 80 #inch\n",
        "\n",
        "path=f\"../input/diabetic-retinopathy-resized/resized_train/resized_train/31590_right.jpeg\" # too many vessels?\n",
        "# path=f\"../input/diabetic-retinopathy-resized/resized_train/resized_train/18017_left.jpeg\" # details are lost\n",
        "image = load_ben_color(path,sigmaX=30)\n",
        "# image = cv2.imread(path)\n",
        "# image = cv2.cvtColor(image, cv2.COLOR_BGR2GRAY)\n",
        "# image = crop_image1(image)\n",
        "# image = cv2.resize(image, (IMG_SIZE, IMG_SIZE))\n",
        "# image=cv2.addWeighted ( image,4, cv2.GaussianBlur( image , (0,0) , IMG_SIZE/10) ,-4 ,128)\n",
        "\n",
        "height, width = IMG_SIZE, IMG_SIZE\n",
        "print(height, width)\n",
        "\n",
        "SCALE=1\n",
        "figsize = (width / float(dpi))/SCALE, (height / float(dpi))/SCALE\n",
        "\n",
        "fig = plt.figure(figsize=figsize)\n",
        "plt.imshow(image, cmap='gray')"
      ],
      "execution_count": null,
      "outputs": []
    },
    {
      "cell_type": "code",
      "metadata": {
        "_kg_hide-input": true,
        "trusted": true,
        "id": "WVG-cHiQGDEX"
      },
      "source": [
        "!ls ../input/retinopathy-train-2015/rescaled_train_896/rescaled_train_896/ | head"
      ],
      "execution_count": null,
      "outputs": []
    },
    {
      "cell_type": "code",
      "metadata": {
        "_kg_hide-input": true,
        "trusted": true,
        "id": "m7_tHACEGDEX"
      },
      "source": [
        "dpi = 80 #inch\n",
        "\n",
        "path_jpg=f\"../input/diabetic-retinopathy-resized/resized_train/resized_train/18017_left.jpeg\" # too many vessels?\n",
        "path_png=f\"../input/retinopathy-train-2015/rescaled_train_896/rescaled_train_896/18017_left.png\" # details are lost\n",
        "image = cv2.imread(path_png)\n",
        "image = cv2.cvtColor(image, cv2.COLOR_BGR2RGB)\n",
        "image = crop_image(image)\n",
        "image = cv2.resize(image, (IMG_SIZE, IMG_SIZE))\n",
        "\n",
        "image2 =  cv2.imread(path_jpg)\n",
        "image2 = cv2.cvtColor(image2, cv2.COLOR_BGR2RGB)\n",
        "image2 = crop_image(image2)\n",
        "image2 = cv2.resize(image2, (IMG_SIZE, IMG_SIZE))\n",
        "\n",
        "\n",
        "height, width = IMG_SIZE, IMG_SIZE\n",
        "print(height, width)\n",
        "\n",
        "SCALE=1/4\n",
        "figsize = (width / float(dpi))/SCALE, (height / float(dpi))/SCALE\n",
        "\n",
        "fig = plt.figure(figsize=figsize)\n",
        "ax = fig.add_subplot(2, 2, 1, xticks=[], yticks=[])\n",
        "ax.set_title('png format original' )\n",
        "plt.imshow(image, cmap='gray')\n",
        "ax = fig.add_subplot(2, 2, 2, xticks=[], yticks=[])\n",
        "ax.set_title('jpg format original' )\n",
        "plt.imshow(image2, cmap='gray')\n",
        "\n",
        "image = load_ben_color(path_png,sigmaX=30)\n",
        "image2 = load_ben_color(path_jpg,sigmaX=30)\n",
        "ax = fig.add_subplot(2, 2, 3, xticks=[], yticks=[])\n",
        "ax.set_title('png format transformed' )\n",
        "plt.imshow(image, cmap='gray')\n",
        "ax = fig.add_subplot(2, 2, 4, xticks=[], yticks=[])\n",
        "ax.set_title('jpg format transformed' )\n",
        "plt.imshow(image2, cmap='gray')"
      ],
      "execution_count": null,
      "outputs": []
    },
    {
      "cell_type": "markdown",
      "metadata": {
        "id": "ZZA8GL-SGDEY"
      },
      "source": [
        "EDA\n",
        "\n",
        "Data overview"
      ]
    },
    {
      "cell_type": "code",
      "metadata": {
        "trusted": true,
        "id": "7Dp5_5uhGDEY"
      },
      "source": [
        "train = pd.read_csv('../input/aptos2019-blindness-detection/train.csv')\n",
        "test = pd.read_csv('../input/aptos2019-blindness-detection/test.csv')"
      ],
      "execution_count": null,
      "outputs": []
    },
    {
      "cell_type": "code",
      "metadata": {
        "trusted": true,
        "id": "5JE0vJcAGDEY"
      },
      "source": [
        "print('Number of train samples: ', train.shape[0])\n",
        "print('Number of test samples: ', test.shape[0])\n",
        "display(train.head())"
      ],
      "execution_count": null,
      "outputs": []
    },
    {
      "cell_type": "markdown",
      "metadata": {
        "id": "dmNW_6jAGDEZ"
      },
      "source": [
        "Label class distribution"
      ]
    },
    {
      "cell_type": "code",
      "metadata": {
        "trusted": true,
        "id": "oJlUPjE7GDEZ"
      },
      "source": [
        "import matplotlib.pyplot as plt\n",
        "import seaborn as sns\n",
        "f, ax = plt.subplots(figsize=(14, 8.7))\n",
        "ax = sns.countplot(x=\"diagnosis\", data=train, palette=\"GnBu_d\")\n",
        "sns.despine()\n",
        "plt.show()"
      ],
      "execution_count": null,
      "outputs": []
    },
    {
      "cell_type": "markdown",
      "metadata": {
        "id": "sfXYf97xGDEZ"
      },
      "source": [
        "Legend\n",
        "\n",
        "0 - No DR\n",
        "\n",
        "1 - Mild\n",
        "\n",
        "2 - Moderate\n",
        "\n",
        "3 - Severe\n",
        "\n",
        "4 - Proliferative DR"
      ]
    },
    {
      "cell_type": "code",
      "metadata": {
        "trusted": true,
        "id": "u0pGwglRGDEZ"
      },
      "source": [
        "sns.set_style(\"white\")\n",
        "count = 1\n",
        "plt.figure(figsize=[20, 20])\n",
        "for img_name in train['id_code'][:15]:\n",
        "    img = cv2.imread(\"../input/aptos2019-blindness-detection/train_images/%s.png\" % img_name)[...,[2, 1, 0]]\n",
        "    plt.subplot(5, 5, count)\n",
        "    plt.imshow(img)\n",
        "    plt.title(\"Image %s\" % count)\n",
        "    count += 1\n",
        "    \n",
        "plt.show()"
      ],
      "execution_count": null,
      "outputs": []
    },
    {
      "cell_type": "markdown",
      "metadata": {
        "id": "sWmfMo26GDEZ"
      },
      "source": [
        "Model parameters"
      ]
    },
    {
      "cell_type": "code",
      "metadata": {
        "trusted": true,
        "id": "j7E6NqvRGDEZ"
      },
      "source": [
        "# Model parameters\n",
        "BATCH_SIZE = 8\n",
        "EPOCHS = 20\n",
        "WARMUP_EPOCHS = 2\n",
        "LEARNING_RATE = 1e-4\n",
        "WARMUP_LEARNING_RATE = 1e-3\n",
        "HEIGHT = 512\n",
        "WIDTH = 512\n",
        "CANAL = 3\n",
        "N_CLASSES = train['diagnosis'].nunique()\n",
        "ES_PATIENCE = 5\n",
        "RLROP_PATIENCE = 3\n",
        "DECAY_DROP = 0.5"
      ],
      "execution_count": null,
      "outputs": []
    },
    {
      "cell_type": "code",
      "metadata": {
        "trusted": true,
        "id": "9FUeOSPKGDEa"
      },
      "source": [
        "# Preprocecss data\n",
        "train[\"id_code\"] = train[\"id_code\"].apply(lambda x: x + \".png\")\n",
        "test[\"id_code\"] = test[\"id_code\"].apply(lambda x: x + \".png\")\n",
        "train['diagnosis'] = train['diagnosis'].astype('str')\n",
        "train.head()"
      ],
      "execution_count": null,
      "outputs": []
    },
    {
      "cell_type": "markdown",
      "metadata": {
        "id": "P7bnJOL3GDEa"
      },
      "source": [
        "Data generator"
      ]
    },
    {
      "cell_type": "code",
      "metadata": {
        "trusted": true,
        "id": "x4eTppxxGDEa"
      },
      "source": [
        "train_datagen=ImageDataGenerator(rescale=1./255, \n",
        "                                 validation_split=0.2,\n",
        "                                 horizontal_flip=True)\n",
        "\n",
        "train_generator=train_datagen.flow_from_dataframe(\n",
        "    dataframe=train,\n",
        "    directory=\"../input/aptos2019-blindness-detection/train_images/\",\n",
        "    x_col=\"id_code\",\n",
        "    y_col=\"diagnosis\",\n",
        "    batch_size=BATCH_SIZE,\n",
        "    class_mode=\"categorical\",\n",
        "    target_size=(HEIGHT, WIDTH),\n",
        "    subset='training')\n",
        "\n",
        "valid_generator=train_datagen.flow_from_dataframe(\n",
        "    dataframe=train,\n",
        "    directory=\"../input/aptos2019-blindness-detection/train_images/\",\n",
        "    x_col=\"id_code\",\n",
        "    y_col=\"diagnosis\",\n",
        "    batch_size=BATCH_SIZE,\n",
        "    class_mode=\"categorical\",    \n",
        "    target_size=(HEIGHT, WIDTH),\n",
        "    subset='validation')\n",
        "\n",
        "test_datagen = ImageDataGenerator(rescale=1./255)\n",
        "\n",
        "test_generator = test_datagen.flow_from_dataframe(  \n",
        "        dataframe=test,\n",
        "        directory = \"../input/aptos2019-blindness-detection/test_images/\",\n",
        "        x_col=\"id_code\",\n",
        "        target_size=(HEIGHT, WIDTH),\n",
        "        batch_size=1,\n",
        "        shuffle=False,\n",
        "        class_mode=None)"
      ],
      "execution_count": null,
      "outputs": []
    },
    {
      "cell_type": "markdown",
      "metadata": {
        "id": "5kYLU6i3GDEa"
      },
      "source": [
        "That's all for now! Hope this is helpful somehow! "
      ]
    },
    {
      "cell_type": "code",
      "metadata": {
        "trusted": true,
        "id": "SKitvC1VGDEa"
      },
      "source": [
        ""
      ],
      "execution_count": null,
      "outputs": []
    }
  ]
}